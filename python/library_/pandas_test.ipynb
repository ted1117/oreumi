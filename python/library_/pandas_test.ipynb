{
 "cells": [
  {
   "cell_type": "code",
   "execution_count": 1,
   "metadata": {},
   "outputs": [
    {
     "name": "stdout",
     "output_type": "stream",
     "text": [
      "                   A         B         C\n",
      "2023-07-04  0.628229  0.732823 -0.446043\n",
      "2023-07-05  1.819280 -0.097167 -1.230934\n",
      "2023-07-06  0.838157  0.650478 -0.394319\n",
      "2023-07-07 -0.851485  0.631929 -1.035952\n",
      "2023-07-08  2.000254 -0.792060 -0.956308\n"
     ]
    }
   ],
   "source": [
    "import pandas as pd\n",
    "import numpy as np\n",
    "\n",
    "data = np.random.randn(5, 3)\n",
    "columns = [\"A\", \"B\", \"C\"]\n",
    "index = pd.date_range(\"2023-07-04\", periods=5)\n",
    "\n",
    "df = pd.DataFrame(data, index=index, columns=columns)\n",
    "print(df)"
   ]
  }
 ],
 "metadata": {
  "kernelspec": {
   "display_name": "venv",
   "language": "python",
   "name": "python3"
  },
  "language_info": {
   "codemirror_mode": {
    "name": "ipython",
    "version": 3
   },
   "file_extension": ".py",
   "mimetype": "text/x-python",
   "name": "python",
   "nbconvert_exporter": "python",
   "pygments_lexer": "ipython3",
   "version": "3.11.2"
  },
  "orig_nbformat": 4
 },
 "nbformat": 4,
 "nbformat_minor": 2
}
